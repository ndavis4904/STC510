{
 "cells": [
  {
   "cell_type": "code",
   "execution_count": 340,
   "id": "4af53081-55ea-4d6d-a8d6-9294a643dd78",
   "metadata": {},
   "outputs": [],
   "source": [
    "from selenium import webdriver\n",
    "from time import sleep\n",
    "from bs4 import BeautifulSoup\n",
    "import pandas as pd\n",
    "import re\n",
    "import numpy as np\n",
    "\n",
    "keywords = ['matress', 'cabinet', 'wrench', 'hammer', 'screwdriver','remove',\n",
    "            'explain','police','saw','republican','Alex Halavais']"
   ]
  },
  {
   "cell_type": "code",
   "execution_count": 341,
   "id": "d63e8f1c-3d9a-4958-bca3-10e8eff765fe",
   "metadata": {},
   "outputs": [],
   "source": [
    "df = pd.DataFrame(columns = ['Diplay Name', 'Account Name', 'Comment'])"
   ]
  },
  {
   "cell_type": "code",
   "execution_count": 329,
   "id": "a0bcdb17-3147-466d-a6ad-313090058dd0",
   "metadata": {},
   "outputs": [
    {
     "name": "stderr",
     "output_type": "stream",
     "text": [
      "C:\\Users\\ndavi\\AppData\\Local\\Temp\\ipykernel_18400\\2539846246.py:1: DeprecationWarning: executable_path has been deprecated, please pass in a Service object\n",
      "  driver = webdriver.Chrome(executable_path = 'C:\\Program Files\\chromedriver.exe')\n"
     ]
    }
   ],
   "source": [
    "driver = webdriver.Chrome(executable_path = 'C:\\Program Files\\chromedriver.exe')\n",
    "sleep(5)\n",
    "driver.get('https://mastodon.social/auth/sign_in')\n",
    "sleep(5)\n",
    "log_form_uname = driver.find_element('id', 'user_email').send_keys('nadavi13@asu.edu')\n",
    "sleep(5)\n",
    "log_form_pass = driver.find_element('id', 'user_password').send_keys('@RuA68SLiL9HZqs')\n",
    "sleep(5)\n",
    "pass_button = driver.find_element('name', 'button').click()\n",
    "sleep(15)\n",
    "pagesource = driver.page_source\n",
    "bs = BeautifulSoup(pagesource, 'html.parser')"
   ]
  },
  {
   "cell_type": "code",
   "execution_count": 338,
   "id": "cb8b6c4e-a3ad-46a0-8224-625c6d74c460",
   "metadata": {},
   "outputs": [],
   "source": [
    "df = pd.read_csv(\"hamburgler_accolites.csv\")"
   ]
  },
  {
   "cell_type": "code",
   "execution_count": 339,
   "id": "b3398e6f-b83b-4e6c-a25b-48b0eae5992d",
   "metadata": {},
   "outputs": [
    {
     "data": {
      "text/html": [
       "<div>\n",
       "<style scoped>\n",
       "    .dataframe tbody tr th:only-of-type {\n",
       "        vertical-align: middle;\n",
       "    }\n",
       "\n",
       "    .dataframe tbody tr th {\n",
       "        vertical-align: top;\n",
       "    }\n",
       "\n",
       "    .dataframe thead th {\n",
       "        text-align: right;\n",
       "    }\n",
       "</style>\n",
       "<table border=\"1\" class=\"dataframe\">\n",
       "  <thead>\n",
       "    <tr style=\"text-align: right;\">\n",
       "      <th></th>\n",
       "      <th>Unnamed: 0</th>\n",
       "      <th>Diplay Name</th>\n",
       "      <th>Account Name</th>\n",
       "      <th>Comment</th>\n",
       "    </tr>\n",
       "  </thead>\n",
       "  <tbody>\n",
       "  </tbody>\n",
       "</table>\n",
       "</div>"
      ],
      "text/plain": [
       "Empty DataFrame\n",
       "Columns: [Unnamed: 0, Diplay Name, Account Name, Comment]\n",
       "Index: []"
      ]
     },
     "execution_count": 339,
     "metadata": {},
     "output_type": "execute_result"
    }
   ],
   "source": [
    "comment = ''\n",
    "boolean = ''\n",
    "display_name = ''\n",
    "account_name = ''\n",
    "for i in range(0, len(bs.find_all(class_ = re.compile(' translate')))):\n",
    "    #comment = bs.find_all(class_='status__content__text status__content__text--visible translate')[i].find_all('p')[i].text\n",
    "    comment = bs.find_all(class_ = re.compile(' translate'))[i].text\n",
    "    if not df.Comment.str.contains(comment).any():\n",
    "        for eachword in keywords:\n",
    "            boolean = bool(re.search(eachword, comment))\n",
    "            if boolean:\n",
    "                display_name = bs.find_all(class_='display-name__html')[i].text\n",
    "                account_name = bs.find_all(class_='display-name__account')[i].text\n",
    "                together = {'Diplay Name': display_name, 'Account Name': account_name, 'Comment': comment}\n",
    "                df = df.append(together, ignore_index = True)\n",
    "    sleep(10)\n",
    "df.to_csv(\"hamburgler_accolites.csv\")\n",
    "df"
   ]
  },
  {
   "cell_type": "code",
   "execution_count": 342,
   "id": "8d930497-e3cb-4c72-88b8-13762116e15b",
   "metadata": {},
   "outputs": [],
   "source": [
    "driver.quit()"
   ]
  }
 ],
 "metadata": {
  "kernelspec": {
   "display_name": "Python 3 (ipykernel)",
   "language": "python",
   "name": "python3"
  },
  "language_info": {
   "codemirror_mode": {
    "name": "ipython",
    "version": 3
   },
   "file_extension": ".py",
   "mimetype": "text/x-python",
   "name": "python",
   "nbconvert_exporter": "python",
   "pygments_lexer": "ipython3",
   "version": "3.9.13"
  }
 },
 "nbformat": 4,
 "nbformat_minor": 5
}
